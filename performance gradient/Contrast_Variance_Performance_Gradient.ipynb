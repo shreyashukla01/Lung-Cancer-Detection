{
  "nbformat": 4,
  "nbformat_minor": 0,
  "metadata": {
    "colab": {
      "provenance": []
    },
    "kernelspec": {
      "name": "python3",
      "display_name": "Python 3"
    },
    "language_info": {
      "name": "python"
    }
  },
  "cells": [
    {
      "cell_type": "markdown",
      "source": [
        "We noticed that the performance of the model significantly declined with the augmentation.\n",
        "Therefore we are going to run perfoprmance gradient on the model trained on unaugmented data and then compare results"
      ],
      "metadata": {
        "id": "SUdfiAnYJX5Y"
      }
    },
    {
      "cell_type": "code",
      "execution_count": null,
      "metadata": {
        "id": "HVpGVoH2HF_S"
      },
      "outputs": [],
      "source": [
        "#@title\n",
        "# Import files\n",
        "import tensorflow.keras as keras\n",
        "from tensorflow.keras.preprocessing.image import ImageDataGenerator, load_img, img_to_array\n",
        "from tensorflow.keras.models import Sequential\n",
        "from keras.utils import np_utils\n",
        "from tensorflow.keras.layers import Dense,Activation, Flatten, Dropout, BatchNormalization, Conv2D, MaxPooling2D\n",
        "from tensorflow.keras.callbacks import ModelCheckpoint, EarlyStopping\n",
        "from tensorflow.keras import regularizers, optimizers\n",
        "import tensorflow as tf\n",
        "from tensorflow.keras.applications import ResNet50,VGG16,ResNet101, VGG19, DenseNet201, EfficientNetB4, MobileNetV2\n",
        "from tensorflow.keras.applications import resnet, vgg16 , vgg19, densenet, efficientnet, mobilenet_v2\n",
        "from tensorflow.keras import Model\n",
        "\n",
        "from tensorflow.keras.optimizers.legacy import Adam\n",
        "from tensorflow.keras.models import Sequential\n",
        "from tensorflow.keras.layers import Activation, Dense, MaxPool2D, Conv2D, Flatten\n",
        "from tensorflow.keras.metrics import categorical_crossentropy\n",
        "\n",
        "\n",
        "import numpy as np\n",
        "import matplotlib.pyplot as plt\n",
        "import pandas as pd\n",
        "\n",
        "import PIL\n",
        "import os\n",
        "import cv2\n",
        "\n",
        "import warnings\n",
        "warnings.filterwarnings('ignore')\n",
        "\n",
        "from keras.models import model_from_json\n",
        "from keras.optimizers import SGD\n",
        "from google.colab.patches import cv2_imshow\n",
        "\n",
        "from os import listdir\n",
        "from os.path import isfile, join\n",
        "import numpy\n",
        "import cv2\n",
        "\n",
        "import pandas as pd\n",
        "import imgaug.augmenters as iaa\n",
        "\n",
        "# import test, train, and validation folders:\n",
        "import skimage\n",
        "\n",
        "from keras.models import model_from_json\n",
        "from keras.optimizers import SGD\n",
        "from google.colab.patches import cv2_imshow"
      ]
    },
    {
      "cell_type": "code",
      "source": [
        "from google.colab import drive\n",
        "drive.mount('/content/gdrive')"
      ],
      "metadata": {
        "colab": {
          "base_uri": "https://localhost:8080/"
        },
        "id": "Og83N-pEKkTm",
        "outputId": "3766e470-083d-4202-b27a-3f7d43c1c5da"
      },
      "execution_count": null,
      "outputs": [
        {
          "output_type": "stream",
          "name": "stdout",
          "text": [
            "Mounted at /content/gdrive\n"
          ]
        }
      ]
    },
    {
      "cell_type": "code",
      "execution_count": null,
      "metadata": {
        "colab": {
          "base_uri": "https://localhost:8080/"
        },
        "id": "kI7Zeo01yR8s",
        "outputId": "fb72a7b1-3656-4bb2-fdfb-38e8c82ee67e"
      },
      "outputs": [
        {
          "output_type": "stream",
          "name": "stdout",
          "text": [
            "\u001b[2K     \u001b[90m━━━━━━━━━━━━━━━━━━━━━━━━━━━━━━━━━━━━━━\u001b[0m \u001b[32m191.2/191.2 kB\u001b[0m \u001b[31m15.7 MB/s\u001b[0m eta \u001b[36m0:00:00\u001b[0m\n",
            "\u001b[2K     \u001b[90m━━━━━━━━━━━━━━━━━━━━━━━━━━━━━━━━━━━━━━━━\u001b[0m \u001b[32m12.7/12.7 MB\u001b[0m \u001b[31m90.4 MB/s\u001b[0m eta \u001b[36m0:00:00\u001b[0m\n",
            "\u001b[2K     \u001b[90m━━━━━━━━━━━━━━━━━━━━━━━━━━━━━━━━━━━━━━━━\u001b[0m \u001b[32m56.0/56.0 kB\u001b[0m \u001b[31m7.9 MB/s\u001b[0m eta \u001b[36m0:00:00\u001b[0m\n",
            "\u001b[2K     \u001b[90m━━━━━━━━━━━━━━━━━━━━━━━━━━━━━━━━━━━━━━━\u001b[0m \u001b[32m776.8/776.8 MB\u001b[0m \u001b[31m2.0 MB/s\u001b[0m eta \u001b[36m0:00:00\u001b[0m\n",
            "\u001b[?25h\u001b[31mERROR: pip's dependency resolver does not currently take into account all the packages that are installed. This behaviour is the source of the following dependency conflicts.\n",
            "torchtext 0.15.1 requires torch==2.0.0, but you have torch 1.7.1 which is incompatible.\n",
            "torchdata 0.6.0 requires torch==2.0.0, but you have torch 1.7.1 which is incompatible.\n",
            "torchaudio 2.0.1+cu118 requires torch==2.0.0, but you have torch 1.7.1 which is incompatible.\u001b[0m\u001b[31m\n",
            "\u001b[0m"
          ]
        }
      ],
      "source": [
        "! pip install -Uq kaggle\n",
        "! pip install -Uq fastai==2.2.5"
      ]
    },
    {
      "cell_type": "code",
      "execution_count": null,
      "metadata": {
        "colab": {
          "base_uri": "https://localhost:8080/",
          "height": 90
        },
        "id": "dzVnV0d4yTyA",
        "outputId": "028b0b94-62f6-464e-d189-176e95f7721a"
      },
      "outputs": [
        {
          "output_type": "display_data",
          "data": {
            "text/plain": [
              "<IPython.core.display.HTML object>"
            ],
            "text/html": [
              "\n",
              "     <input type=\"file\" id=\"files-27c30af3-fb30-47b1-b043-42d40a5db434\" name=\"files[]\" multiple disabled\n",
              "        style=\"border:none\" />\n",
              "     <output id=\"result-27c30af3-fb30-47b1-b043-42d40a5db434\">\n",
              "      Upload widget is only available when the cell has been executed in the\n",
              "      current browser session. Please rerun this cell to enable.\n",
              "      </output>\n",
              "      <script>// Copyright 2017 Google LLC\n",
              "//\n",
              "// Licensed under the Apache License, Version 2.0 (the \"License\");\n",
              "// you may not use this file except in compliance with the License.\n",
              "// You may obtain a copy of the License at\n",
              "//\n",
              "//      http://www.apache.org/licenses/LICENSE-2.0\n",
              "//\n",
              "// Unless required by applicable law or agreed to in writing, software\n",
              "// distributed under the License is distributed on an \"AS IS\" BASIS,\n",
              "// WITHOUT WARRANTIES OR CONDITIONS OF ANY KIND, either express or implied.\n",
              "// See the License for the specific language governing permissions and\n",
              "// limitations under the License.\n",
              "\n",
              "/**\n",
              " * @fileoverview Helpers for google.colab Python module.\n",
              " */\n",
              "(function(scope) {\n",
              "function span(text, styleAttributes = {}) {\n",
              "  const element = document.createElement('span');\n",
              "  element.textContent = text;\n",
              "  for (const key of Object.keys(styleAttributes)) {\n",
              "    element.style[key] = styleAttributes[key];\n",
              "  }\n",
              "  return element;\n",
              "}\n",
              "\n",
              "// Max number of bytes which will be uploaded at a time.\n",
              "const MAX_PAYLOAD_SIZE = 100 * 1024;\n",
              "\n",
              "function _uploadFiles(inputId, outputId) {\n",
              "  const steps = uploadFilesStep(inputId, outputId);\n",
              "  const outputElement = document.getElementById(outputId);\n",
              "  // Cache steps on the outputElement to make it available for the next call\n",
              "  // to uploadFilesContinue from Python.\n",
              "  outputElement.steps = steps;\n",
              "\n",
              "  return _uploadFilesContinue(outputId);\n",
              "}\n",
              "\n",
              "// This is roughly an async generator (not supported in the browser yet),\n",
              "// where there are multiple asynchronous steps and the Python side is going\n",
              "// to poll for completion of each step.\n",
              "// This uses a Promise to block the python side on completion of each step,\n",
              "// then passes the result of the previous step as the input to the next step.\n",
              "function _uploadFilesContinue(outputId) {\n",
              "  const outputElement = document.getElementById(outputId);\n",
              "  const steps = outputElement.steps;\n",
              "\n",
              "  const next = steps.next(outputElement.lastPromiseValue);\n",
              "  return Promise.resolve(next.value.promise).then((value) => {\n",
              "    // Cache the last promise value to make it available to the next\n",
              "    // step of the generator.\n",
              "    outputElement.lastPromiseValue = value;\n",
              "    return next.value.response;\n",
              "  });\n",
              "}\n",
              "\n",
              "/**\n",
              " * Generator function which is called between each async step of the upload\n",
              " * process.\n",
              " * @param {string} inputId Element ID of the input file picker element.\n",
              " * @param {string} outputId Element ID of the output display.\n",
              " * @return {!Iterable<!Object>} Iterable of next steps.\n",
              " */\n",
              "function* uploadFilesStep(inputId, outputId) {\n",
              "  const inputElement = document.getElementById(inputId);\n",
              "  inputElement.disabled = false;\n",
              "\n",
              "  const outputElement = document.getElementById(outputId);\n",
              "  outputElement.innerHTML = '';\n",
              "\n",
              "  const pickedPromise = new Promise((resolve) => {\n",
              "    inputElement.addEventListener('change', (e) => {\n",
              "      resolve(e.target.files);\n",
              "    });\n",
              "  });\n",
              "\n",
              "  const cancel = document.createElement('button');\n",
              "  inputElement.parentElement.appendChild(cancel);\n",
              "  cancel.textContent = 'Cancel upload';\n",
              "  const cancelPromise = new Promise((resolve) => {\n",
              "    cancel.onclick = () => {\n",
              "      resolve(null);\n",
              "    };\n",
              "  });\n",
              "\n",
              "  // Wait for the user to pick the files.\n",
              "  const files = yield {\n",
              "    promise: Promise.race([pickedPromise, cancelPromise]),\n",
              "    response: {\n",
              "      action: 'starting',\n",
              "    }\n",
              "  };\n",
              "\n",
              "  cancel.remove();\n",
              "\n",
              "  // Disable the input element since further picks are not allowed.\n",
              "  inputElement.disabled = true;\n",
              "\n",
              "  if (!files) {\n",
              "    return {\n",
              "      response: {\n",
              "        action: 'complete',\n",
              "      }\n",
              "    };\n",
              "  }\n",
              "\n",
              "  for (const file of files) {\n",
              "    const li = document.createElement('li');\n",
              "    li.append(span(file.name, {fontWeight: 'bold'}));\n",
              "    li.append(span(\n",
              "        `(${file.type || 'n/a'}) - ${file.size} bytes, ` +\n",
              "        `last modified: ${\n",
              "            file.lastModifiedDate ? file.lastModifiedDate.toLocaleDateString() :\n",
              "                                    'n/a'} - `));\n",
              "    const percent = span('0% done');\n",
              "    li.appendChild(percent);\n",
              "\n",
              "    outputElement.appendChild(li);\n",
              "\n",
              "    const fileDataPromise = new Promise((resolve) => {\n",
              "      const reader = new FileReader();\n",
              "      reader.onload = (e) => {\n",
              "        resolve(e.target.result);\n",
              "      };\n",
              "      reader.readAsArrayBuffer(file);\n",
              "    });\n",
              "    // Wait for the data to be ready.\n",
              "    let fileData = yield {\n",
              "      promise: fileDataPromise,\n",
              "      response: {\n",
              "        action: 'continue',\n",
              "      }\n",
              "    };\n",
              "\n",
              "    // Use a chunked sending to avoid message size limits. See b/62115660.\n",
              "    let position = 0;\n",
              "    do {\n",
              "      const length = Math.min(fileData.byteLength - position, MAX_PAYLOAD_SIZE);\n",
              "      const chunk = new Uint8Array(fileData, position, length);\n",
              "      position += length;\n",
              "\n",
              "      const base64 = btoa(String.fromCharCode.apply(null, chunk));\n",
              "      yield {\n",
              "        response: {\n",
              "          action: 'append',\n",
              "          file: file.name,\n",
              "          data: base64,\n",
              "        },\n",
              "      };\n",
              "\n",
              "      let percentDone = fileData.byteLength === 0 ?\n",
              "          100 :\n",
              "          Math.round((position / fileData.byteLength) * 100);\n",
              "      percent.textContent = `${percentDone}% done`;\n",
              "\n",
              "    } while (position < fileData.byteLength);\n",
              "  }\n",
              "\n",
              "  // All done.\n",
              "  yield {\n",
              "    response: {\n",
              "      action: 'complete',\n",
              "    }\n",
              "  };\n",
              "}\n",
              "\n",
              "scope.google = scope.google || {};\n",
              "scope.google.colab = scope.google.colab || {};\n",
              "scope.google.colab._files = {\n",
              "  _uploadFiles,\n",
              "  _uploadFilesContinue,\n",
              "};\n",
              "})(self);\n",
              "</script> "
            ]
          },
          "metadata": {}
        },
        {
          "output_type": "stream",
          "name": "stdout",
          "text": [
            "Saving kaggle.json to kaggle.json\n"
          ]
        },
        {
          "output_type": "execute_result",
          "data": {
            "text/plain": [
              "{'kaggle.json': b'{\"username\":\"shreyashukla01\",\"key\":\"b0652e31cce9e0350fd087c244990d74\"}'}"
            ]
          },
          "metadata": {},
          "execution_count": 4
        }
      ],
      "source": [
        "from google.colab import files \n",
        "files.upload()"
      ]
    },
    {
      "cell_type": "code",
      "execution_count": null,
      "metadata": {
        "id": "mqqL_UciyVef"
      },
      "outputs": [],
      "source": [
        "! mkdir ~/.kaggle\n",
        "! cp kaggle.json ~/.kaggle/\n",
        "! chmod 600 ~/.kaggle/kaggle.json"
      ]
    },
    {
      "cell_type": "code",
      "execution_count": null,
      "metadata": {
        "colab": {
          "base_uri": "https://localhost:8080/"
        },
        "id": "7bLG-UB3yXNc",
        "outputId": "52e38eb1-58d1-474a-de16-80e742cfc23b"
      },
      "outputs": [
        {
          "output_type": "stream",
          "name": "stdout",
          "text": [
            "Downloading chest-ctscan-images.zip to /content\n",
            " 95% 113M/119M [00:01<00:00, 93.7MB/s]\n",
            "100% 119M/119M [00:01<00:00, 88.5MB/s]\n"
          ]
        }
      ],
      "source": [
        "! kaggle datasets download -d mohamedhanyyy/chest-ctscan-images"
      ]
    },
    {
      "cell_type": "code",
      "execution_count": null,
      "metadata": {
        "id": "NtV7JvNzyY1e"
      },
      "outputs": [],
      "source": [
        "! unzip -qq chest-ctscan-images.zip"
      ]
    },
    {
      "cell_type": "code",
      "source": [
        "# Load VGG model from json\n",
        "\n",
        "#Load the Model from Json File\n",
        "json_file = open('/content/gdrive/My Drive/SML_Project/model_vgg16.json', 'r')\n",
        "model_json_c = json_file.read()\n",
        "json_file.close()\n",
        "model = model_from_json(model_json_c)\n",
        "#Load the weights\n",
        "model.load_weights(\"/content/gdrive/My Drive/SML_Project/chest_CT_SCAN-VGG16.hdf5\")\n",
        "#Compile the model\n",
        "opt = SGD(lr=1e-4, momentum=0.9)\n",
        "model.compile(loss=\"categorical_crossentropy\", optimizer=opt,metrics=[\"accuracy\"])"
      ],
      "metadata": {
        "id": "NX_GyvZQJ1hy"
      },
      "execution_count": null,
      "outputs": []
    },
    {
      "cell_type": "markdown",
      "source": [
        "# Gradient Functions"
      ],
      "metadata": {
        "id": "01AQwMg9LVBn"
      }
    },
    {
      "cell_type": "code",
      "execution_count": null,
      "metadata": {
        "id": "3Ga3-YErA7GR"
      },
      "outputs": [],
      "source": [
        "# Decrease Image Contrast \n",
        "def Contrast(images, contrast_control,):\n",
        "  \"\"\" \n",
        "    image - the original input image.\n",
        "    alpha - the contrast value. Lower contrast, use 0 < alpha < 1. Higher contrast use alpha > 1.\n",
        "  \"\"\" \n",
        "  contrasted_images = []\n",
        "  for i in range(len(images)): \n",
        "    adjusted = cv2.convertScaleAbs(images[i], alpha = contrast_control,)\n",
        "    contrasted_images.append(adjusted)\n",
        "  return contrasted_images"
      ]
    },
    {
      "cell_type": "markdown",
      "source": [
        "# Lower Contrast Images"
      ],
      "metadata": {
        "id": "Sl3uQHBaSWsN"
      }
    },
    {
      "cell_type": "code",
      "source": [
        "# Directories for image contrast dataset\n",
        "! mkdir altered_pixel_intensity_images\n",
        "! mkdir altered_pixel_intensity_images/contrast/\n",
        "! mkdir altered_pixel_intensity_images/contrast/0\n",
        "! mkdir altered_pixel_intensity_images/contrast/0/cancerous\n",
        "! mkdir altered_pixel_intensity_images/contrast/0/non_cancerous\n",
        "! mkdir altered_pixel_intensity_images/contrast/1\n",
        "! mkdir altered_pixel_intensity_images/contrast/1/cancerous\n",
        "! mkdir altered_pixel_intensity_images/contrast/1/non_cancerous\n",
        "! mkdir altered_pixel_intensity_images/contrast/2\n",
        "! mkdir altered_pixel_intensity_images/contrast/2/cancerous\n",
        "! mkdir altered_pixel_intensity_images/contrast/2/non_cancerous\n",
        "! mkdir altered_pixel_intensity_images/contrast/3\n",
        "! mkdir altered_pixel_intensity_images/contrast/3/cancerous\n",
        "! mkdir altered_pixel_intensity_images/contrast/3/non_cancerous"
      ],
      "metadata": {
        "id": "648C-Ov3bSye"
      },
      "execution_count": null,
      "outputs": []
    },
    {
      "cell_type": "code",
      "source": [
        "# Create a new dataset with cancerous and non cancerous images\n",
        "! mkdir ct_scan\n",
        "\n",
        "! mkdir ct_scan/test\n",
        "! mkdir ct_scan/test/cancerous\n",
        "! mkdir ct_scan/test/non_cancerous\n",
        "! cp -r Data/test/adenocarcinoma/. ct_scan/test/cancerous/\n",
        "! cp -r Data/test/large.cell.carcinoma/. ct_scan/test/cancerous/\n",
        "! cp -r Data/test/squamous.cell.carcinoma/. ct_scan/test/cancerous/\n",
        "! cp -r Data/test/normal/. ct_scan/test/non_cancerous/"
      ],
      "metadata": {
        "id": "HDKVaLauNCBB"
      },
      "execution_count": null,
      "outputs": []
    },
    {
      "cell_type": "code",
      "source": [
        "cancer_test_path = \"ct_scan/test/cancerous/\"\n",
        "noncancer_test_path = \"ct_scan/test/non_cancerous/\""
      ],
      "metadata": {
        "id": "lHllrcoyM01x"
      },
      "execution_count": null,
      "outputs": []
    },
    {
      "cell_type": "code",
      "execution_count": null,
      "metadata": {
        "colab": {
          "base_uri": "https://localhost:8080/"
        },
        "id": "js67GXGDGTHq",
        "outputId": "508bbbfe-b644-4fb4-e595-9fd2c923833a"
      },
      "outputs": [
        {
          "output_type": "stream",
          "name": "stdout",
          "text": [
            "Number of Contrasted Cancer Images of Contrast Factor = 0.2 : 224\n",
            "Number of Contrasted Cancer Images of Contrast Factor = 0.4 : 224\n",
            "Number of Contrasted Cancer Images of Contrast Factor = 0.6 : 224\n",
            "Number of Contrasted Cancer Images of Contrast Factor = 0.8 : 224\n",
            "Number of Contrasted Non Cancer Images of Contrast Factor = 0.2 : 54\n",
            "Number of Contrasted Non Cancer Images of Contrast Factor = 0.4 : 54\n",
            "Number of Contrasted Non Cancer Images of Contrast Factor = 0.6 : 54\n",
            "Number of Contrasted Non Cancer Images of Contrast Factor = 0.8 : 54\n"
          ]
        }
      ],
      "source": [
        "# Test - Cancer Lower Contrast Images  \n",
        "images = []\n",
        "for path in os.listdir(cancer_test_path):\n",
        "  image_ = cv2.imread(cancer_test_path+'/'+path)\n",
        "  images.append(image_)\n",
        "\n",
        "contrast_control = [0.2, 0.4, 0.6, 0.8] # factors between 0 and 1 lower image contrast \n",
        "for j in range(len(contrast_control)): \n",
        "  count = 0 \n",
        "  contrasted_images = Contrast(images, contrast_control[j])\n",
        "  for i in range(len(contrasted_images)):\n",
        "      contrasted_image = contrasted_images[i]\n",
        "      cv2.imwrite(f\"altered_pixel_intensity_images/contrast/{j}/cancerous/{i}.jpg\",contrasted_image)\n",
        "      count +=1\n",
        "      k = cv2.waitKey(1000)\n",
        "  print(f\"Number of Contrasted Cancer Images of Contrast Factor = {contrast_control[j]} : {count}\")\n",
        "\n",
        "# Test - Non Cancer Lower Contrast Images  \n",
        "images = []\n",
        "for path in os.listdir(noncancer_test_path):\n",
        "  image_ = cv2.imread(noncancer_test_path+'/'+path)\n",
        "  images.append(image_)\n",
        "\n",
        "contrast_control = [0.2, 0.4, 0.6, 0.8] # factors between 0 and 1 lower image contrast \n",
        "for j in range(len(contrast_control)): \n",
        "  count = 0 \n",
        "  contrasted_images = Contrast(images, contrast_control[j])\n",
        "  for i in range(len(contrasted_images)):\n",
        "      contrasted_image = contrasted_images[i]\n",
        "      cv2.imwrite(f\"altered_pixel_intensity_images/contrast/{j}/non_cancerous/{i}.jpg\",contrasted_image)\n",
        "      count +=1\n",
        "      k = cv2.waitKey(1000)\n",
        "  print(f\"Number of Contrasted Non Cancer Images of Contrast Factor = {contrast_control[j]} : {count}\")"
      ]
    },
    {
      "cell_type": "code",
      "source": [
        "# testgenerator for contrast\n",
        "\n",
        "N_CLASSES = 2\n",
        "BATCH_SIZE = 32\n",
        "\n",
        "test_datagen = ImageDataGenerator(dtype='float32')\n",
        "test_losses_contrast = []\n",
        "test_accuracy_list_contrast = []\n",
        "for i in range(len(contrast_control)):\n",
        "  test_path = f\"altered_pixel_intensity_images/contrast/{i}\"\n",
        "  test_generator = test_datagen.flow_from_directory(test_path,\n",
        "                                                   batch_size = BATCH_SIZE,\n",
        "                                                   target_size = (460,460),\n",
        "                                                   class_mode = 'categorical')\n",
        "  test_loss, test_accuracy = model.evaluate(test_generator)\n",
        "  test_losses_contrast.append(test_loss)\n",
        "  test_accuracy_list_contrast.append(test_accuracy)\n",
        "  print(test_losses_contrast)\n",
        "  print(test_accuracy_list_contrast)"
      ],
      "metadata": {
        "colab": {
          "base_uri": "https://localhost:8080/"
        },
        "outputId": "cf3fb571-7a60-47f5-f9ff-115b2bb4e40c",
        "id": "sGAQ5pYEb_DP"
      },
      "execution_count": null,
      "outputs": [
        {
          "output_type": "stream",
          "name": "stdout",
          "text": [
            "Found 278 images belonging to 2 classes.\n",
            "9/9 [==============================] - 672s 73s/step - loss: 1.2185 - accuracy: 0.2014\n",
            "[1.2185466289520264]\n",
            "[0.20143884420394897]\n",
            "Found 278 images belonging to 2 classes.\n",
            "9/9 [==============================] - 659s 73s/step - loss: 1.5737 - accuracy: 0.2122\n",
            "[1.2185466289520264, 1.573679804801941]\n",
            "[0.20143884420394897, 0.21223022043704987]\n",
            "Found 278 images belonging to 2 classes.\n",
            "9/9 [==============================] - 654s 72s/step - loss: 1.9346 - accuracy: 0.2230\n",
            "[1.2185466289520264, 1.573679804801941, 1.9346104860305786]\n",
            "[0.20143884420394897, 0.21223022043704987, 0.22302158176898956]\n",
            "Found 278 images belonging to 2 classes.\n",
            "9/9 [==============================] - 650s 72s/step - loss: 2.3008 - accuracy: 0.2302\n",
            "[1.2185466289520264, 1.573679804801941, 1.9346104860305786, 2.300842761993408]\n",
            "[0.20143884420394897, 0.21223022043704987, 0.22302158176898956, 0.23021583259105682]\n"
          ]
        }
      ]
    },
    {
      "cell_type": "code",
      "source": [
        "# Graph for the trend\n",
        "\n",
        "\n",
        "# plot loss vs Contrast Control\n",
        "plt.figure(figsize=(8,6))\n",
        "plt.subplot(221)\n",
        "plt.plot(contrast_control, test_losses_contrast, linewidth=3)\n",
        "plt.title('Test Loss vs Contrast Control')\n",
        "plt.xlabel('Gaussian Variance')\n",
        "plt.ylabel('Loss')\n",
        "plt.show()\n",
        "\n",
        "# plot accuracy vs Contrast Control\n",
        "plt.figure(figsize=(8,6))\n",
        "plt.subplot(222)\n",
        "plt.plot(contrast_control, test_accuracy_list_contrast, color = \"orange\", linewidth=3)\n",
        "plt.title('Test Loss vs Contrast Control')\n",
        "plt.xlabel('Contrast Control')\n",
        "plt.ylabel('Accuracy')\n",
        "plt.show()"
      ],
      "metadata": {
        "colab": {
          "base_uri": "https://localhost:8080/",
          "height": 607
        },
        "id": "hmYgV86xKuLD",
        "outputId": "1582e261-5bf4-4a21-ea65-3e9abf90f39a"
      },
      "execution_count": null,
      "outputs": [
        {
          "output_type": "display_data",
          "data": {
            "text/plain": [
              "<Figure size 800x600 with 1 Axes>"
            ],
            "image/png": "[encoded data removed]"
          },
          "metadata": {}
        },
        {
          "output_type": "display_data",
          "data": {
            "text/plain": [
              "<Figure size 800x600 with 1 Axes>"
            ],
            "image/png": "[encoded data removed]"
          },
          "metadata": {}
        }
      ]
    },
    {
      "cell_type": "markdown",
      "source": [
        "ResNet50 trained in augmented data"
      ],
      "metadata": {
        "id": "X3XqqeJTLdf0"
      }
    },
    {
      "cell_type": "code",
      "source": [
        "# Load ResNet model from json\n",
        "\n",
        "#Load the Model from Json File\n",
        "json_file = open('/content/gdrive/My Drive/SML_Project/model_resnet50_augmented.json', 'r')\n",
        "model_json_c = json_file.read()\n",
        "json_file.close()\n",
        "model_r = model_from_json(model_json_c)\n",
        "#Load the weights\n",
        "model_r.load_weights(\"/content/gdrive/My Drive/SML_Project/chest_CT_SCAN-ResNet50_augmented.hdf5\")\n",
        "#Compile the model\n",
        "opt = SGD(lr=1e-4, momentum=0.9)\n",
        "model_r.compile(loss=\"categorical_crossentropy\", optimizer=opt,metrics=[\"accuracy\"])"
      ],
      "metadata": {
        "id": "H2Sr6ds8JoAg"
      },
      "execution_count": null,
      "outputs": []
    },
    {
      "cell_type": "code",
      "source": [
        "# testgenerator for contrast\n",
        "\n",
        "N_CLASSES = 2\n",
        "BATCH_SIZE = 32\n",
        "\n",
        "test_datagen = ImageDataGenerator(dtype='float32')\n",
        "test_losses_contrast_r = []\n",
        "test_accuracy_list_contrast_r = []\n",
        "for i in range(len(contrast_control)):\n",
        "  test_path = f\"altered_pixel_intensity_images/contrast/{i}\"\n",
        "  test_generator = test_datagen.flow_from_directory(test_path,\n",
        "                                                   batch_size = BATCH_SIZE,\n",
        "                                                   target_size = (460,460),\n",
        "                                                   class_mode = 'categorical')\n",
        "  test_loss, test_accuracy = model_r.evaluate(test_generator)\n",
        "  test_losses_contrast_r.append(test_loss)\n",
        "  test_accuracy_list_contrast_r.append(test_accuracy)\n",
        "  print(test_losses_contrast_r)\n",
        "  print(test_accuracy_list_contrast_r)"
      ],
      "metadata": {
        "id": "JJ62Iwh7Jsso",
        "colab": {
          "base_uri": "https://localhost:8080/"
        },
        "outputId": "e3d06fac-38de-41d9-8abb-10532f9cdf65"
      },
      "execution_count": null,
      "outputs": [
        {
          "output_type": "stream",
          "name": "stdout",
          "text": [
            "Found 278 images belonging to 2 classes.\n",
            "9/9 [==============================] - 252s 28s/step - loss: 0.2348 - accuracy: 0.8741\n",
            "[0.2348148673772812]\n",
            "[0.8741007447242737]\n",
            "Found 278 images belonging to 2 classes.\n",
            "9/9 [==============================] - 235s 26s/step - loss: 0.1373 - accuracy: 0.9532\n",
            "[0.2348148673772812, 0.1373186856508255]\n",
            "[0.8741007447242737, 0.9532374143600464]\n",
            "Found 278 images belonging to 2 classes.\n",
            "9/9 [==============================] - 238s 26s/step - loss: 0.0884 - accuracy: 0.9964\n",
            "[0.2348148673772812, 0.1373186856508255, 0.08841878175735474]\n",
            "[0.8741007447242737, 0.9532374143600464, 0.9964028596878052]\n",
            "Found 278 images belonging to 2 classes.\n",
            "9/9 [==============================] - 239s 27s/step - loss: 0.0852 - accuracy: 0.9964\n",
            "[0.2348148673772812, 0.1373186856508255, 0.08841878175735474, 0.08516090363264084]\n",
            "[0.8741007447242737, 0.9532374143600464, 0.9964028596878052, 0.9964028596878052]\n"
          ]
        }
      ]
    },
    {
      "cell_type": "code",
      "source": [
        "# Graph for the trend\n",
        "\n",
        "\n",
        "# plot loss vs Contrast Control\n",
        "plt.figure(figsize=(8,6))\n",
        "plt.subplot(221)\n",
        "plt.plot(contrast_control, test_losses_contrast_r, linewidth=3)\n",
        "plt.title('Test Loss vs Contrast Control')\n",
        "plt.xlabel('Gaussian Variance')\n",
        "plt.ylabel('Loss')\n",
        "plt.show()\n",
        "\n",
        "# plot accuracy vs Contrast Control\n",
        "plt.figure(figsize=(8,6))\n",
        "plt.subplot(222)\n",
        "plt.plot(contrast_control, test_accuracy_list_contrast_r, color = \"orange\", linewidth=3)\n",
        "plt.title('Test Loss vs Contrast Control')\n",
        "plt.xlabel('Contrast Control')\n",
        "plt.ylabel('Accuracy')\n",
        "plt.show()"
      ],
      "metadata": {
        "id": "oEcdI7f-J_6M",
        "colab": {
          "base_uri": "https://localhost:8080/",
          "height": 607
        },
        "outputId": "8d54e645-a8e6-4a7d-c620-883ab63d21ef"
      },
      "execution_count": null,
      "outputs": [
        {
          "output_type": "display_data",
          "data": {
            "text/plain": [
              "<Figure size 800x600 with 1 Axes>"
            ],
            "image/png": "[encoded data removed]"
          },
          "metadata": {}
        },
        {
          "output_type": "display_data",
          "data": {
            "text/plain": [
              "<Figure size 800x600 with 1 Axes>"
            ],
            "image/png": "[encoded data removed]"
          },
          "metadata": {}
        }
      ]
    }
  ]
}