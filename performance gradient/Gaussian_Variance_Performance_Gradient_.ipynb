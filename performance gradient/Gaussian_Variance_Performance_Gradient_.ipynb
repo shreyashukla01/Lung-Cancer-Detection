{
  "nbformat": 4,
  "nbformat_minor": 0,
  "metadata": {
    "colab": {
      "provenance": []
    },
    "kernelspec": {
      "name": "python3",
      "display_name": "Python 3"
    },
    "language_info": {
      "name": "python"
    }
  },
  "cells": [
    {
      "cell_type": "markdown",
      "source": [
        "We noticed that the performance of the model significantly declined with the augmentation.\n",
        "Therefore we are going to run perfoprmance gradient on the model trained on unaugmented data and then compare results"
      ],
      "metadata": {
        "id": "SUdfiAnYJX5Y"
      }
    },
    {
      "cell_type": "code",
      "execution_count": null,
      "metadata": {
        "id": "HVpGVoH2HF_S"
      },
      "outputs": [],
      "source": [
        "#@title\n",
        "# Import files\n",
        "import tensorflow.keras as keras\n",
        "from tensorflow.keras.preprocessing.image import ImageDataGenerator, load_img, img_to_array\n",
        "from tensorflow.keras.models import Sequential\n",
        "from keras.utils import np_utils\n",
        "from tensorflow.keras.layers import Dense,Activation, Flatten, Dropout, BatchNormalization, Conv2D, MaxPooling2D\n",
        "from tensorflow.keras.callbacks import ModelCheckpoint, EarlyStopping\n",
        "from tensorflow.keras import regularizers, optimizers\n",
        "import tensorflow as tf\n",
        "from tensorflow.keras.applications import ResNet50,VGG16,ResNet101, VGG19, DenseNet201, EfficientNetB4, MobileNetV2\n",
        "from tensorflow.keras.applications import resnet, vgg16 , vgg19, densenet, efficientnet, mobilenet_v2\n",
        "from tensorflow.keras import Model\n",
        "\n",
        "from tensorflow.keras.optimizers.legacy import Adam\n",
        "from tensorflow.keras.models import Sequential\n",
        "from tensorflow.keras.layers import Activation, Dense, MaxPool2D, Conv2D, Flatten\n",
        "from tensorflow.keras.metrics import categorical_crossentropy\n",
        "\n",
        "\n",
        "import numpy as np\n",
        "import matplotlib.pyplot as plt\n",
        "import pandas as pd\n",
        "\n",
        "import PIL\n",
        "import os\n",
        "import cv2\n",
        "\n",
        "import warnings\n",
        "warnings.filterwarnings('ignore')\n",
        "\n",
        "from keras.models import model_from_json\n",
        "from keras.optimizers import SGD\n",
        "from google.colab.patches import cv2_imshow\n",
        "\n",
        "from os import listdir\n",
        "from os.path import isfile, join\n",
        "import numpy\n",
        "import cv2\n",
        "\n",
        "import pandas as pd\n",
        "import imgaug.augmenters as iaa\n",
        "\n",
        "# import test, train, and validation folders:\n",
        "import skimage\n",
        "\n",
        "from keras.models import model_from_json\n",
        "from keras.optimizers import SGD\n",
        "from google.colab.patches import cv2_imshow"
      ]
    },
    {
      "cell_type": "code",
      "source": [
        "from google.colab import drive\n",
        "drive.mount('/content/gdrive')"
      ],
      "metadata": {
        "colab": {
          "base_uri": "https://localhost:8080/"
        },
        "id": "Og83N-pEKkTm",
        "outputId": "44b8bea3-8b1a-48f0-dc87-71e204d9fc0c"
      },
      "execution_count": null,
      "outputs": [
        {
          "output_type": "stream",
          "name": "stdout",
          "text": [
            "Mounted at /content/gdrive\n"
          ]
        }
      ]
    },
    {
      "cell_type": "code",
      "execution_count": null,
      "metadata": {
        "colab": {
          "base_uri": "https://localhost:8080/"
        },
        "id": "kI7Zeo01yR8s",
        "outputId": "0050b1f6-2717-4f74-9238-09f81041546b"
      },
      "outputs": [
        {
          "output_type": "stream",
          "name": "stdout",
          "text": [
            "\u001b[2K     \u001b[90m━━━━━━━━━━━━━━━━━━━━━━━━━━━━━━━━━━━━━━━\u001b[0m \u001b[32m191.2/191.2 kB\u001b[0m \u001b[31m7.3 MB/s\u001b[0m eta \u001b[36m0:00:00\u001b[0m\n",
            "\u001b[2K     \u001b[90m━━━━━━━━━━━━━━━━━━━━━━━━━━━━━━━━━━━━━━━━\u001b[0m \u001b[32m12.7/12.7 MB\u001b[0m \u001b[31m91.7 MB/s\u001b[0m eta \u001b[36m0:00:00\u001b[0m\n",
            "\u001b[2K     \u001b[90m━━━━━━━━━━━━━━━━━━━━━━━━━━━━━━━━━━━━━━━━\u001b[0m \u001b[32m56.0/56.0 kB\u001b[0m \u001b[31m7.6 MB/s\u001b[0m eta \u001b[36m0:00:00\u001b[0m\n",
            "\u001b[2K     \u001b[90m━━━━━━━━━━━━━━━━━━━━━━━━━━━━━━━━━━━━━━━\u001b[0m \u001b[32m776.8/776.8 MB\u001b[0m \u001b[31m2.6 MB/s\u001b[0m eta \u001b[36m0:00:00\u001b[0m\n",
            "\u001b[?25h\u001b[31mERROR: pip's dependency resolver does not currently take into account all the packages that are installed. This behaviour is the source of the following dependency conflicts.\n",
            "torchtext 0.15.1 requires torch==2.0.0, but you have torch 1.7.1 which is incompatible.\n",
            "torchdata 0.6.0 requires torch==2.0.0, but you have torch 1.7.1 which is incompatible.\n",
            "torchaudio 2.0.1+cu118 requires torch==2.0.0, but you have torch 1.7.1 which is incompatible.\u001b[0m\u001b[31m\n",
            "\u001b[0m"
          ]
        }
      ],
      "source": [
        "! pip install -Uq kaggle\n",
        "! pip install -Uq fastai==2.2.5"
      ]
    },
    {
      "cell_type": "code",
      "execution_count": null,
      "metadata": {
        "colab": {
          "base_uri": "https://localhost:8080/",
          "height": 90
        },
        "id": "dzVnV0d4yTyA",
        "outputId": "169d4dab-d4e8-42fd-d8f2-6e355f459591"
      },
      "outputs": [
        {
          "output_type": "display_data",
          "data": {
            "text/plain": [
              "<IPython.core.display.HTML object>"
            ],
            "text/html": [
              "\n",
              "     <input type=\"file\" id=\"files-968abd69-2412-4a1a-b157-38260acc266b\" name=\"files[]\" multiple disabled\n",
              "        style=\"border:none\" />\n",
              "     <output id=\"result-968abd69-2412-4a1a-b157-38260acc266b\">\n",
              "      Upload widget is only available when the cell has been executed in the\n",
              "      current browser session. Please rerun this cell to enable.\n",
              "      </output>\n",
              "      <script>// Copyright 2017 Google LLC\n",
              "//\n",
              "// Licensed under the Apache License, Version 2.0 (the \"License\");\n",
              "// you may not use this file except in compliance with the License.\n",
              "// You may obtain a copy of the License at\n",
              "//\n",
              "//      http://www.apache.org/licenses/LICENSE-2.0\n",
              "//\n",
              "// Unless required by applicable law or agreed to in writing, software\n",
              "// distributed under the License is distributed on an \"AS IS\" BASIS,\n",
              "// WITHOUT WARRANTIES OR CONDITIONS OF ANY KIND, either express or implied.\n",
              "// See the License for the specific language governing permissions and\n",
              "// limitations under the License.\n",
              "\n",
              "/**\n",
              " * @fileoverview Helpers for google.colab Python module.\n",
              " */\n",
              "(function(scope) {\n",
              "function span(text, styleAttributes = {}) {\n",
              "  const element = document.createElement('span');\n",
              "  element.textContent = text;\n",
              "  for (const key of Object.keys(styleAttributes)) {\n",
              "    element.style[key] = styleAttributes[key];\n",
              "  }\n",
              "  return element;\n",
              "}\n",
              "\n",
              "// Max number of bytes which will be uploaded at a time.\n",
              "const MAX_PAYLOAD_SIZE = 100 * 1024;\n",
              "\n",
              "function _uploadFiles(inputId, outputId) {\n",
              "  const steps = uploadFilesStep(inputId, outputId);\n",
              "  const outputElement = document.getElementById(outputId);\n",
              "  // Cache steps on the outputElement to make it available for the next call\n",
              "  // to uploadFilesContinue from Python.\n",
              "  outputElement.steps = steps;\n",
              "\n",
              "  return _uploadFilesContinue(outputId);\n",
              "}\n",
              "\n",
              "// This is roughly an async generator (not supported in the browser yet),\n",
              "// where there are multiple asynchronous steps and the Python side is going\n",
              "// to poll for completion of each step.\n",
              "// This uses a Promise to block the python side on completion of each step,\n",
              "// then passes the result of the previous step as the input to the next step.\n",
              "function _uploadFilesContinue(outputId) {\n",
              "  const outputElement = document.getElementById(outputId);\n",
              "  const steps = outputElement.steps;\n",
              "\n",
              "  const next = steps.next(outputElement.lastPromiseValue);\n",
              "  return Promise.resolve(next.value.promise).then((value) => {\n",
              "    // Cache the last promise value to make it available to the next\n",
              "    // step of the generator.\n",
              "    outputElement.lastPromiseValue = value;\n",
              "    return next.value.response;\n",
              "  });\n",
              "}\n",
              "\n",
              "/**\n",
              " * Generator function which is called between each async step of the upload\n",
              " * process.\n",
              " * @param {string} inputId Element ID of the input file picker element.\n",
              " * @param {string} outputId Element ID of the output display.\n",
              " * @return {!Iterable<!Object>} Iterable of next steps.\n",
              " */\n",
              "function* uploadFilesStep(inputId, outputId) {\n",
              "  const inputElement = document.getElementById(inputId);\n",
              "  inputElement.disabled = false;\n",
              "\n",
              "  const outputElement = document.getElementById(outputId);\n",
              "  outputElement.innerHTML = '';\n",
              "\n",
              "  const pickedPromise = new Promise((resolve) => {\n",
              "    inputElement.addEventListener('change', (e) => {\n",
              "      resolve(e.target.files);\n",
              "    });\n",
              "  });\n",
              "\n",
              "  const cancel = document.createElement('button');\n",
              "  inputElement.parentElement.appendChild(cancel);\n",
              "  cancel.textContent = 'Cancel upload';\n",
              "  const cancelPromise = new Promise((resolve) => {\n",
              "    cancel.onclick = () => {\n",
              "      resolve(null);\n",
              "    };\n",
              "  });\n",
              "\n",
              "  // Wait for the user to pick the files.\n",
              "  const files = yield {\n",
              "    promise: Promise.race([pickedPromise, cancelPromise]),\n",
              "    response: {\n",
              "      action: 'starting',\n",
              "    }\n",
              "  };\n",
              "\n",
              "  cancel.remove();\n",
              "\n",
              "  // Disable the input element since further picks are not allowed.\n",
              "  inputElement.disabled = true;\n",
              "\n",
              "  if (!files) {\n",
              "    return {\n",
              "      response: {\n",
              "        action: 'complete',\n",
              "      }\n",
              "    };\n",
              "  }\n",
              "\n",
              "  for (const file of files) {\n",
              "    const li = document.createElement('li');\n",
              "    li.append(span(file.name, {fontWeight: 'bold'}));\n",
              "    li.append(span(\n",
              "        `(${file.type || 'n/a'}) - ${file.size} bytes, ` +\n",
              "        `last modified: ${\n",
              "            file.lastModifiedDate ? file.lastModifiedDate.toLocaleDateString() :\n",
              "                                    'n/a'} - `));\n",
              "    const percent = span('0% done');\n",
              "    li.appendChild(percent);\n",
              "\n",
              "    outputElement.appendChild(li);\n",
              "\n",
              "    const fileDataPromise = new Promise((resolve) => {\n",
              "      const reader = new FileReader();\n",
              "      reader.onload = (e) => {\n",
              "        resolve(e.target.result);\n",
              "      };\n",
              "      reader.readAsArrayBuffer(file);\n",
              "    });\n",
              "    // Wait for the data to be ready.\n",
              "    let fileData = yield {\n",
              "      promise: fileDataPromise,\n",
              "      response: {\n",
              "        action: 'continue',\n",
              "      }\n",
              "    };\n",
              "\n",
              "    // Use a chunked sending to avoid message size limits. See b/62115660.\n",
              "    let position = 0;\n",
              "    do {\n",
              "      const length = Math.min(fileData.byteLength - position, MAX_PAYLOAD_SIZE);\n",
              "      const chunk = new Uint8Array(fileData, position, length);\n",
              "      position += length;\n",
              "\n",
              "      const base64 = btoa(String.fromCharCode.apply(null, chunk));\n",
              "      yield {\n",
              "        response: {\n",
              "          action: 'append',\n",
              "          file: file.name,\n",
              "          data: base64,\n",
              "        },\n",
              "      };\n",
              "\n",
              "      let percentDone = fileData.byteLength === 0 ?\n",
              "          100 :\n",
              "          Math.round((position / fileData.byteLength) * 100);\n",
              "      percent.textContent = `${percentDone}% done`;\n",
              "\n",
              "    } while (position < fileData.byteLength);\n",
              "  }\n",
              "\n",
              "  // All done.\n",
              "  yield {\n",
              "    response: {\n",
              "      action: 'complete',\n",
              "    }\n",
              "  };\n",
              "}\n",
              "\n",
              "scope.google = scope.google || {};\n",
              "scope.google.colab = scope.google.colab || {};\n",
              "scope.google.colab._files = {\n",
              "  _uploadFiles,\n",
              "  _uploadFilesContinue,\n",
              "};\n",
              "})(self);\n",
              "</script> "
            ]
          },
          "metadata": {}
        },
        {
          "output_type": "stream",
          "name": "stdout",
          "text": [
            "Saving kaggle.json to kaggle.json\n"
          ]
        },
        {
          "output_type": "execute_result",
          "data": {
            "text/plain": [
              "{'kaggle.json': b'{\"username\":\"shreyashukla01\",\"key\":\"b0652e31cce9e0350fd087c244990d74\"}'}"
            ]
          },
          "metadata": {},
          "execution_count": 3
        }
      ],
      "source": [
        "from google.colab import files \n",
        "files.upload()"
      ]
    },
    {
      "cell_type": "code",
      "execution_count": null,
      "metadata": {
        "id": "mqqL_UciyVef"
      },
      "outputs": [],
      "source": [
        "! mkdir ~/.kaggle\n",
        "! cp kaggle.json ~/.kaggle/\n",
        "! chmod 600 ~/.kaggle/kaggle.json"
      ]
    },
    {
      "cell_type": "code",
      "execution_count": null,
      "metadata": {
        "colab": {
          "base_uri": "https://localhost:8080/"
        },
        "id": "7bLG-UB3yXNc",
        "outputId": "f0be651e-d38c-4da7-dde5-a4ded83611f1"
      },
      "outputs": [
        {
          "output_type": "stream",
          "name": "stdout",
          "text": [
            "Downloading chest-ctscan-images.zip to /content\n",
            " 98% 116M/119M [00:01<00:00, 153MB/s] \n",
            "100% 119M/119M [00:01<00:00, 110MB/s]\n"
          ]
        }
      ],
      "source": [
        "! kaggle datasets download -d mohamedhanyyy/chest-ctscan-images"
      ]
    },
    {
      "cell_type": "code",
      "execution_count": null,
      "metadata": {
        "id": "NtV7JvNzyY1e"
      },
      "outputs": [],
      "source": [
        "! unzip -qq chest-ctscan-images.zip"
      ]
    },
    {
      "cell_type": "code",
      "source": [
        "# Load VGG model from json\n",
        "\n",
        "#Load the Model from Json File\n",
        "json_file = open('/content/gdrive/My Drive/SML_Project/model_vgg16.json', 'r')\n",
        "model_json_c = json_file.read()\n",
        "json_file.close()\n",
        "model = model_from_json(model_json_c)\n",
        "#Load the weights\n",
        "model.load_weights(\"/content/gdrive/My Drive/SML_Project/chest_CT_SCAN-VGG16.hdf5\")\n",
        "#Compile the model\n",
        "opt = SGD(lr=1e-4, momentum=0.9)\n",
        "model.compile(loss=\"categorical_crossentropy\", optimizer=opt,metrics=[\"accuracy\"])"
      ],
      "metadata": {
        "id": "NX_GyvZQJ1hy"
      },
      "execution_count": null,
      "outputs": []
    },
    {
      "cell_type": "markdown",
      "source": [
        "# Gradient Functions"
      ],
      "metadata": {
        "id": "01AQwMg9LVBn"
      }
    },
    {
      "cell_type": "code",
      "execution_count": null,
      "metadata": {
        "id": "reN5zpYJA7EQ"
      },
      "outputs": [],
      "source": [
        "# Add Gaussin Noise to Images\n",
        "def gaussianNoise(images, var): \n",
        "  gaussian_images = []\n",
        "  for i in range(len(images)):\n",
        "     gimg = skimage.util.random_noise(images[i], mode=\"gaussian\", var = var)\n",
        "     gaussian_images.append(gimg)\n",
        "  return gaussian_images"
      ]
    },
    {
      "cell_type": "markdown",
      "source": [
        "# Gaussian Noise Gradient"
      ],
      "metadata": {
        "id": "G2ec-z-QLyFx"
      }
    },
    {
      "cell_type": "code",
      "source": [
        "# Create a new dataset with cancerous and non cancerous images\n",
        "! mkdir ct_scan\n",
        "\n",
        "! mkdir ct_scan/test\n",
        "! mkdir ct_scan/test/cancerous\n",
        "! mkdir ct_scan/test/non_cancerous\n",
        "! cp -r Data/test/adenocarcinoma/. ct_scan/test/cancerous/\n",
        "! cp -r Data/test/large.cell.carcinoma/. ct_scan/test/cancerous/\n",
        "! cp -r Data/test/squamous.cell.carcinoma/. ct_scan/test/cancerous/\n",
        "! cp -r Data/test/normal/. ct_scan/test/non_cancerous/"
      ],
      "metadata": {
        "id": "52vc-YWtL8Eq"
      },
      "execution_count": null,
      "outputs": []
    },
    {
      "cell_type": "code",
      "source": [
        "# Directories for image contrast dataset\n",
        "! mkdir gaussianNoise\n",
        "! mkdir gaussianNoise/var/\n",
        "! mkdir gaussianNoise/var/0\n",
        "! mkdir gaussianNoise/var/0/cancerous\n",
        "! mkdir gaussianNoise/var/0/non_cancerous\n",
        "! mkdir gaussianNoise/var/1\n",
        "! mkdir gaussianNoise/var/1/cancerous\n",
        "! mkdir gaussianNoise/var/1/non_cancerous\n",
        "! mkdir gaussianNoise/var/2\n",
        "! mkdir gaussianNoise/var/2/cancerous\n",
        "! mkdir gaussianNoise/var/2/non_cancerous\n",
        "! mkdir gaussianNoise/var/3\n",
        "! mkdir gaussianNoise/var/3/cancerous\n",
        "! mkdir gaussianNoise/var/3/non_cancerous\n",
        "! mkdir gaussianNoise/var/4\n",
        "! mkdir gaussianNoise/var/4/cancerous\n",
        "! mkdir gaussianNoise/var/4/non_cancerous\n",
        "! mkdir gaussianNoise/var/5\n",
        "! mkdir gaussianNoise/var/5/cancerous\n",
        "! mkdir gaussianNoise/var/5/non_cancerous\n",
        "! mkdir gaussianNoise/var/6\n",
        "! mkdir gaussianNoise/var/6/cancerous\n",
        "! mkdir gaussianNoise/var/6/non_cancerous\n",
        "! mkdir gaussianNoise/var/7\n",
        "! mkdir gaussianNoise/var/7/cancerous\n",
        "! mkdir gaussianNoise/var/7/non_cancerous"
      ],
      "metadata": {
        "id": "C7gsr0hQL0mR"
      },
      "execution_count": null,
      "outputs": []
    },
    {
      "cell_type": "code",
      "source": [
        "cancer_test_path = \"ct_scan/test/cancerous/\"\n",
        "noncancer_test_path = \"ct_scan/test/non_cancerous/\""
      ],
      "metadata": {
        "id": "wP2hDZMtMSr5"
      },
      "execution_count": null,
      "outputs": []
    },
    {
      "cell_type": "code",
      "execution_count": null,
      "metadata": {
        "colab": {
          "base_uri": "https://localhost:8080/"
        },
        "id": "RCsmPkTp8Nou",
        "outputId": "ea292e64-74dd-4af7-88b3-c894216db721"
      },
      "outputs": [
        {
          "output_type": "stream",
          "name": "stdout",
          "text": [
            "Number of Gaussian Noise Cancer Images for variance = 0.5 : 224\n",
            "Number of Gaussian Noise Cancer Images for variance = 1.0 : 224\n",
            "Number of Gaussian Noise Cancer Images for variance = 1.5 : 224\n",
            "Number of Gaussian Noise Cancer Images for variance = 2.0 : 224\n",
            "Number of Gaussian Noise Cancer Images for variance = 2.5 : 224\n",
            "Number of Gaussian Noise Cancer Images for variance = 3.0 : 224\n",
            "Number of Gaussian Noise Cancer Images for variance = 3.5 : 224\n",
            "Number of Gaussian Noise Cancer Images for variance = 4.0 : 224\n",
            "Number of Gaussian Noise NonCancer Images for variance = 0.5 : 54\n",
            "Number of Gaussian Noise NonCancer Images for variance = 1.0 : 54\n",
            "Number of Gaussian Noise NonCancer Images for variance = 1.5 : 54\n",
            "Number of Gaussian Noise NonCancer Images for variance = 2.0 : 54\n",
            "Number of Gaussian Noise NonCancer Images for variance = 2.5 : 54\n",
            "Number of Gaussian Noise NonCancer Images for variance = 3.0 : 54\n",
            "Number of Gaussian Noise NonCancer Images for variance = 3.5 : 54\n",
            "Number of Gaussian Noise NonCancer Images for variance = 4.0 : 54\n"
          ]
        }
      ],
      "source": [
        "# Test - Cancer Gaussian Noise Images  \n",
        "\n",
        "images = []\n",
        "for path in os.listdir(cancer_test_path):\n",
        "  image_ = cv2.imread(cancer_test_path+'/'+path)\n",
        "  images.append(image_)\n",
        "\n",
        "variances = [0.50, 1.00, 1.50, 2.00, 2.50, 3.00, 3.50, 4.00]\n",
        "for j in range(len(variances)): \n",
        "  count = 0 \n",
        "  gaussian_images = gaussianNoise(images, variances[j])\n",
        "  for i in range(len(gaussian_images)):\n",
        "      gimage = gaussian_images[i]\n",
        "      cv2.imwrite(f\"gaussianNoise/var/{j}/cancerous/{i}.jpg\",gimage)\n",
        "      count +=1\n",
        "      k = cv2.waitKey(1000)\n",
        "  print(f\"Number of Gaussian Noise Cancer Images for variance = {variances[j]} : {count}\")\n",
        "\n",
        "# Test - Non Cancer Gaussian Noise Images\n",
        "images = []\n",
        "for path in os.listdir(noncancer_test_path):\n",
        "  image_ = cv2.imread(noncancer_test_path+'/'+path)\n",
        "  images.append(image_)\n",
        "\n",
        "variances = [0.50, 1.00, 1.50, 2.00, 2.50, 3.00, 3.50, 4.00]\n",
        "for j in range(len(variances)): \n",
        "  count = 0 \n",
        "  gaussian_images = gaussianNoise(images, variances[j])\n",
        "  for i in range(len(gaussian_images)):\n",
        "      gimage = gaussian_images[i]\n",
        "      cv2.imwrite(f\"gaussianNoise/var/{j}/non_cancerous/{i}.jpg\",gimage)\n",
        "      count +=1\n",
        "      k = cv2.waitKey(1000)\n",
        "  print(f\"Number of Gaussian Noise NonCancer Images for variance = {variances[j]} : {count}\")"
      ]
    },
    {
      "cell_type": "code",
      "source": [
        "# testgenerator for images with gaussian noise\n",
        "image_shape = (460,460,3)\n",
        "N_CLASSES = 2\n",
        "BATCH_SIZE = 32\n",
        "\n",
        "test_datagen = ImageDataGenerator(dtype='float32')\n",
        "test_losses = []\n",
        "test_accuracy_list = []\n",
        "for i in range(len(variances)):\n",
        "  test_path = f\"gaussianNoise/var/{i}\"\n",
        "  test_generator = test_datagen.flow_from_directory(test_path,\n",
        "                                                   batch_size = BATCH_SIZE,\n",
        "                                                   target_size = (460,460),\n",
        "                                                   class_mode = 'categorical')\n",
        "  test_loss, test_accuracy = model.evaluate(test_generator)\n",
        "  test_losses.append(test_loss)\n",
        "  test_accuracy_list.append(test_accuracy)"
      ],
      "metadata": {
        "colab": {
          "base_uri": "https://localhost:8080/"
        },
        "id": "G_66wrJONRxu",
        "outputId": "c3314e1c-b13b-4c54-89cd-d07e4c0ff15a"
      },
      "execution_count": null,
      "outputs": [
        {
          "output_type": "stream",
          "name": "stdout",
          "text": [
            "Found 278 images belonging to 2 classes.\n",
            "9/9 [==============================] - 481s 53s/step - loss: 0.8495 - accuracy: 0.1942\n",
            "Found 278 images belonging to 2 classes.\n",
            "9/9 [==============================] - 486s 54s/step - loss: 0.8459 - accuracy: 0.1942\n",
            "Found 278 images belonging to 2 classes.\n",
            "9/9 [==============================] - 471s 52s/step - loss: 0.8423 - accuracy: 0.1906\n",
            "Found 278 images belonging to 2 classes.\n",
            "9/9 [==============================] - 479s 53s/step - loss: 0.8344 - accuracy: 0.1547\n",
            "Found 278 images belonging to 2 classes.\n",
            "9/9 [==============================] - 479s 53s/step - loss: 0.8279 - accuracy: 0.1115\n",
            "Found 278 images belonging to 2 classes.\n",
            "9/9 [==============================] - 481s 53s/step - loss: 0.8216 - accuracy: 0.0863\n",
            "Found 278 images belonging to 2 classes.\n",
            "9/9 [==============================] - 479s 53s/step - loss: 0.8177 - accuracy: 0.0612\n",
            "Found 278 images belonging to 2 classes.\n",
            "9/9 [==============================] - 472s 52s/step - loss: 0.8141 - accuracy: 0.0612\n"
          ]
        }
      ]
    },
    {
      "cell_type": "code",
      "source": [
        "# Graph for the trend\n",
        "\n",
        "\n",
        "# plot loss vs Gaussian Variance\n",
        "plt.figure(figsize=(8,6))\n",
        "plt.subplot(221)\n",
        "plt.plot(variances, test_losses, linewidth=3)\n",
        "plt.title('Test Loss vs Gaussian Variance')\n",
        "plt.xlabel('Gaussian Variance')\n",
        "plt.ylabel('Loss')\n",
        "plt.show()\n",
        "\n",
        "# plot accuracy vs Gaussian Variance\n",
        "plt.figure(figsize=(8,6))\n",
        "plt.subplot(222)\n",
        "plt.plot(variances, test_accuracy_list, color = \"orange\", linewidth=3)\n",
        "plt.title('Test Accuracy vs Gaussian Variance')\n",
        "plt.xlabel('Gaussian Variance')\n",
        "plt.ylabel('Accuracy')\n",
        "plt.show()"
      ],
      "metadata": {
        "id": "UvZ9qyCvORtJ",
        "colab": {
          "base_uri": "https://localhost:8080/",
          "height": 607
        },
        "outputId": "876ea32f-a049-4119-8936-d49ab40ac127"
      },
      "execution_count": null,
      "outputs": [
        {
          "output_type": "display_data",
          "data": {
            "text/plain": [
              "<Figure size 800x600 with 1 Axes>"
            ],
            "image/png": "[encoded data removed]"
          },
          "metadata": {}
        },
        {
          "output_type": "display_data",
          "data": {
            "text/plain": [
              "<Figure size 800x600 with 1 Axes>"
            ],
            "image/png": "[encoded data removed]"
          },
          "metadata": {}
        }
      ]
    },
    {
      "cell_type": "markdown",
      "source": [
        "\n",
        "# ResNet-50 trained on Augmented data\n"
      ],
      "metadata": {
        "id": "daolrpulIxaK"
      }
    },
    {
      "cell_type": "code",
      "source": [
        "# Load ResNet model from json\n",
        "\n",
        "#Load the Model from Json File\n",
        "json_file = open('/content/gdrive/My Drive/SML_Project/model_resnet50_augmented.json', 'r')\n",
        "model_json_c = json_file.read()\n",
        "json_file.close()\n",
        "model_r = model_from_json(model_json_c)\n",
        "#Load the weights\n",
        "model_r.load_weights(\"/content/gdrive/My Drive/SML_Project/chest_CT_SCAN-ResNet50_augmented.hdf5\")\n",
        "#Compile the model\n",
        "opt = SGD(lr=1e-4, momentum=0.9)\n",
        "model_r.compile(loss=\"categorical_crossentropy\", optimizer=opt,metrics=[\"accuracy\"])"
      ],
      "metadata": {
        "id": "H2Sr6ds8JoAg"
      },
      "execution_count": null,
      "outputs": []
    },
    {
      "cell_type": "code",
      "source": [
        "# testgenerator for images with gaussian noise\n",
        "image_shape = (460,460,3)\n",
        "N_CLASSES = 2\n",
        "BATCH_SIZE = 32\n",
        "\n",
        "test_datagen = ImageDataGenerator(dtype='float32')\n",
        "test_losses_r = []\n",
        "test_accuracy_list_r = []\n",
        "for i in range(len(variances)):\n",
        "  test_path = f\"gaussianNoise/var/{i}\"\n",
        "  test_generator = test_datagen.flow_from_directory(test_path,\n",
        "                                                   batch_size = BATCH_SIZE,\n",
        "                                                   target_size = (460,460),\n",
        "                                                   class_mode = 'categorical')\n",
        "  test_loss, test_accuracy = model_r.evaluate(test_generator)\n",
        "  test_losses_r.append(test_loss)\n",
        "  test_accuracy_list_r.append(test_accuracy)"
      ],
      "metadata": {
        "colab": {
          "base_uri": "https://localhost:8080/"
        },
        "id": "JJ62Iwh7Jsso",
        "outputId": "6fece469-8f8c-4e64-940c-57c1a3ac73cf"
      },
      "execution_count": null,
      "outputs": [
        {
          "output_type": "stream",
          "name": "stdout",
          "text": [
            "Found 278 images belonging to 2 classes.\n",
            "9/9 [==============================] - 170s 18s/step - loss: 2.1626 - accuracy: 0.1942\n",
            "Found 278 images belonging to 2 classes.\n",
            "9/9 [==============================] - 165s 18s/step - loss: 2.1810 - accuracy: 0.1942\n",
            "Found 278 images belonging to 2 classes.\n",
            "9/9 [==============================] - 162s 18s/step - loss: 2.2243 - accuracy: 0.1942\n",
            "Found 278 images belonging to 2 classes.\n",
            "9/9 [==============================] - 172s 19s/step - loss: 2.2384 - accuracy: 0.1942\n",
            "Found 278 images belonging to 2 classes.\n",
            "9/9 [==============================] - 164s 18s/step - loss: 2.2501 - accuracy: 0.1942\n",
            "Found 278 images belonging to 2 classes.\n",
            "9/9 [==============================] - 165s 18s/step - loss: 2.2661 - accuracy: 0.1942\n",
            "Found 278 images belonging to 2 classes.\n",
            "9/9 [==============================] - 164s 18s/step - loss: 2.2830 - accuracy: 0.1942\n",
            "Found 278 images belonging to 2 classes.\n",
            "9/9 [==============================] - 167s 18s/step - loss: 2.2844 - accuracy: 0.1942\n"
          ]
        }
      ]
    },
    {
      "cell_type": "code",
      "source": [
        "print(test_losses)\n",
        "print(variances)"
      ],
      "metadata": {
        "colab": {
          "base_uri": "https://localhost:8080/"
        },
        "id": "GtgOtr95jE2z",
        "outputId": "b59aa295-d058-4fb4-f7a7-70b48c7f32c0"
      },
      "execution_count": null,
      "outputs": [
        {
          "output_type": "stream",
          "name": "stdout",
          "text": [
            "[0.8494674563407898, 0.84590083360672, 0.8423410058021545, 0.8343923091888428, 0.827944815158844, 0.8216426968574524, 0.8177119493484497, 0.8140910863876343, 2.162639856338501, 2.180960178375244, 2.2242977619171143, 2.238356351852417, 2.25014591217041, 2.2660624980926514, 2.282973527908325, 2.284396171569824]\n",
            "[0.5, 1.0, 1.5, 2.0, 2.5, 3.0, 3.5, 4.0]\n"
          ]
        }
      ]
    },
    {
      "cell_type": "code",
      "source": [
        "# Graph for the trend\n",
        "\n",
        "\n",
        "# plot loss vs Gaussian Variance\n",
        "plt.figure(figsize=(8,6))\n",
        "plt.subplot(221)\n",
        "plt.plot(variances, test_losses_r, linewidth=3)\n",
        "plt.title('Test Loss vs Gaussian Variance')\n",
        "plt.xlabel('Gaussian Variance')\n",
        "plt.ylabel('Loss')\n",
        "plt.show()\n",
        "\n",
        "# plot accuracy vs Gaussian Variance\n",
        "plt.figure(figsize=(8,6))\n",
        "plt.subplot(222)\n",
        "plt.plot(variances, test_accuracy_list_r, color = \"orange\", linewidth=3)\n",
        "plt.title('Test Loss vs Gaussian Variance')\n",
        "plt.xlabel('Gaussian Variance')\n",
        "plt.ylabel('Accuracy')\n",
        "plt.show()"
      ],
      "metadata": {
        "id": "oEcdI7f-J_6M"
      },
      "execution_count": null,
      "outputs": []
    }
  ]
}