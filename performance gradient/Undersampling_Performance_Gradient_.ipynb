{
  "nbformat": 4,
  "nbformat_minor": 0,
  "metadata": {
    "colab": {
      "provenance": []
    },
    "kernelspec": {
      "name": "python3",
      "display_name": "Python 3"
    },
    "language_info": {
      "name": "python"
    }
  },
  "cells": [
    {
      "cell_type": "markdown",
      "source": [
        "We noticed that the performance of the model significantly declined with the augmentation.\n",
        "Therefore we are going to run perfoprmance gradient on the model trained on unaugmented data and then compare results"
      ],
      "metadata": {
        "id": "SUdfiAnYJX5Y"
      }
    },
    {
      "cell_type": "code",
      "execution_count": null,
      "metadata": {
        "cellView": "form",
        "id": "HVpGVoH2HF_S"
      },
      "outputs": [],
      "source": [
        "#@title\n",
        "# Import files\n",
        "import tensorflow.keras as keras\n",
        "from tensorflow.keras.preprocessing.image import ImageDataGenerator, load_img, img_to_array\n",
        "from tensorflow.keras.models import Sequential\n",
        "from keras.utils import np_utils\n",
        "from tensorflow.keras.layers import Dense,Activation, Flatten, Dropout, BatchNormalization, Conv2D, MaxPooling2D\n",
        "from tensorflow.keras.callbacks import ModelCheckpoint, EarlyStopping\n",
        "from tensorflow.keras import regularizers, optimizers\n",
        "import tensorflow as tf\n",
        "from tensorflow.keras.applications import ResNet50,VGG16,ResNet101, VGG19, DenseNet201, EfficientNetB4, MobileNetV2\n",
        "from tensorflow.keras.applications import resnet, vgg16 , vgg19, densenet, efficientnet, mobilenet_v2\n",
        "from tensorflow.keras import Model\n",
        "\n",
        "from tensorflow.keras.optimizers.legacy import Adam\n",
        "from tensorflow.keras.models import Sequential\n",
        "from tensorflow.keras.layers import Activation, Dense, MaxPool2D, Conv2D, Flatten\n",
        "from tensorflow.keras.metrics import categorical_crossentropy\n",
        "\n",
        "\n",
        "import numpy as np\n",
        "import matplotlib.pyplot as plt\n",
        "import pandas as pd\n",
        "\n",
        "import PIL\n",
        "import os\n",
        "import cv2\n",
        "\n",
        "import warnings\n",
        "warnings.filterwarnings('ignore')\n",
        "\n",
        "from keras.models import model_from_json\n",
        "from keras.optimizers import SGD\n",
        "from google.colab.patches import cv2_imshow\n",
        "\n",
        "from os import listdir\n",
        "from os.path import isfile, join\n",
        "import numpy\n",
        "import cv2\n",
        "\n",
        "import pandas as pd\n",
        "import imgaug.augmenters as iaa\n",
        "\n",
        "# import test, train, and validation folders:\n",
        "import skimage\n",
        "\n",
        "from keras.models import model_from_json\n",
        "from keras.optimizers import SGD\n",
        "from google.colab.patches import cv2_imshow"
      ]
    },
    {
      "cell_type": "code",
      "source": [
        "from google.colab import drive\n",
        "drive.mount('/content/gdrive')"
      ],
      "metadata": {
        "colab": {
          "base_uri": "https://localhost:8080/"
        },
        "id": "Og83N-pEKkTm",
        "outputId": "d4e630dd-5bb0-4cba-ecd5-1e8b1a1c857d"
      },
      "execution_count": null,
      "outputs": [
        {
          "output_type": "stream",
          "name": "stdout",
          "text": [
            "Mounted at /content/gdrive\n"
          ]
        }
      ]
    },
    {
      "cell_type": "code",
      "execution_count": null,
      "metadata": {
        "colab": {
          "base_uri": "https://localhost:8080/"
        },
        "id": "kI7Zeo01yR8s",
        "outputId": "2b7c3830-3ecc-40f3-e96f-484622eab5ca"
      },
      "outputs": [
        {
          "output_type": "stream",
          "name": "stdout",
          "text": [
            "\u001b[2K     \u001b[90m━━━━━━━━━━━━━━━━━━━━━━━━━━━━━━━━━━━━━━━\u001b[0m \u001b[32m191.2/191.2 kB\u001b[0m \u001b[31m8.4 MB/s\u001b[0m eta \u001b[36m0:00:00\u001b[0m\n",
            "\u001b[2K     \u001b[90m━━━━━━━━━━━━━━━━━━━━━━━━━━━━━━━━━━━━━━━━\u001b[0m \u001b[32m56.0/56.0 kB\u001b[0m \u001b[31m5.4 MB/s\u001b[0m eta \u001b[36m0:00:00\u001b[0m\n",
            "\u001b[2K     \u001b[90m━━━━━━━━━━━━━━━━━━━━━━━━━━━━━━━━━━━━━━━\u001b[0m \u001b[32m776.8/776.8 MB\u001b[0m \u001b[31m1.8 MB/s\u001b[0m eta \u001b[36m0:00:00\u001b[0m\n",
            "\u001b[2K     \u001b[90m━━━━━━━━━━━━━━━━━━━━━━━━━━━━━━━━━━━━━━━━\u001b[0m \u001b[32m12.7/12.7 MB\u001b[0m \u001b[31m70.1 MB/s\u001b[0m eta \u001b[36m0:00:00\u001b[0m\n",
            "\u001b[?25h\u001b[31mERROR: pip's dependency resolver does not currently take into account all the packages that are installed. This behaviour is the source of the following dependency conflicts.\n",
            "torchtext 0.15.1 requires torch==2.0.0, but you have torch 1.7.1 which is incompatible.\n",
            "torchdata 0.6.0 requires torch==2.0.0, but you have torch 1.7.1 which is incompatible.\n",
            "torchaudio 2.0.1+cu118 requires torch==2.0.0, but you have torch 1.7.1 which is incompatible.\u001b[0m\u001b[31m\n",
            "\u001b[0m"
          ]
        }
      ],
      "source": [
        "! pip install -Uq kaggle\n",
        "! pip install -Uq fastai==2.2.5"
      ]
    },
    {
      "cell_type": "code",
      "execution_count": null,
      "metadata": {
        "colab": {
          "base_uri": "https://localhost:8080/",
          "height": 90
        },
        "id": "dzVnV0d4yTyA",
        "outputId": "aa0251cf-1264-4447-9586-3637265eb37f"
      },
      "outputs": [
        {
          "output_type": "display_data",
          "data": {
            "text/plain": [
              "<IPython.core.display.HTML object>"
            ],
            "text/html": [
              "\n",
              "     <input type=\"file\" id=\"files-8685fb9f-ab28-432f-a8c4-fc3c9ac37569\" name=\"files[]\" multiple disabled\n",
              "        style=\"border:none\" />\n",
              "     <output id=\"result-8685fb9f-ab28-432f-a8c4-fc3c9ac37569\">\n",
              "      Upload widget is only available when the cell has been executed in the\n",
              "      current browser session. Please rerun this cell to enable.\n",
              "      </output>\n",
              "      <script>// Copyright 2017 Google LLC\n",
              "//\n",
              "// Licensed under the Apache License, Version 2.0 (the \"License\");\n",
              "// you may not use this file except in compliance with the License.\n",
              "// You may obtain a copy of the License at\n",
              "//\n",
              "//      http://www.apache.org/licenses/LICENSE-2.0\n",
              "//\n",
              "// Unless required by applicable law or agreed to in writing, software\n",
              "// distributed under the License is distributed on an \"AS IS\" BASIS,\n",
              "// WITHOUT WARRANTIES OR CONDITIONS OF ANY KIND, either express or implied.\n",
              "// See the License for the specific language governing permissions and\n",
              "// limitations under the License.\n",
              "\n",
              "/**\n",
              " * @fileoverview Helpers for google.colab Python module.\n",
              " */\n",
              "(function(scope) {\n",
              "function span(text, styleAttributes = {}) {\n",
              "  const element = document.createElement('span');\n",
              "  element.textContent = text;\n",
              "  for (const key of Object.keys(styleAttributes)) {\n",
              "    element.style[key] = styleAttributes[key];\n",
              "  }\n",
              "  return element;\n",
              "}\n",
              "\n",
              "// Max number of bytes which will be uploaded at a time.\n",
              "const MAX_PAYLOAD_SIZE = 100 * 1024;\n",
              "\n",
              "function _uploadFiles(inputId, outputId) {\n",
              "  const steps = uploadFilesStep(inputId, outputId);\n",
              "  const outputElement = document.getElementById(outputId);\n",
              "  // Cache steps on the outputElement to make it available for the next call\n",
              "  // to uploadFilesContinue from Python.\n",
              "  outputElement.steps = steps;\n",
              "\n",
              "  return _uploadFilesContinue(outputId);\n",
              "}\n",
              "\n",
              "// This is roughly an async generator (not supported in the browser yet),\n",
              "// where there are multiple asynchronous steps and the Python side is going\n",
              "// to poll for completion of each step.\n",
              "// This uses a Promise to block the python side on completion of each step,\n",
              "// then passes the result of the previous step as the input to the next step.\n",
              "function _uploadFilesContinue(outputId) {\n",
              "  const outputElement = document.getElementById(outputId);\n",
              "  const steps = outputElement.steps;\n",
              "\n",
              "  const next = steps.next(outputElement.lastPromiseValue);\n",
              "  return Promise.resolve(next.value.promise).then((value) => {\n",
              "    // Cache the last promise value to make it available to the next\n",
              "    // step of the generator.\n",
              "    outputElement.lastPromiseValue = value;\n",
              "    return next.value.response;\n",
              "  });\n",
              "}\n",
              "\n",
              "/**\n",
              " * Generator function which is called between each async step of the upload\n",
              " * process.\n",
              " * @param {string} inputId Element ID of the input file picker element.\n",
              " * @param {string} outputId Element ID of the output display.\n",
              " * @return {!Iterable<!Object>} Iterable of next steps.\n",
              " */\n",
              "function* uploadFilesStep(inputId, outputId) {\n",
              "  const inputElement = document.getElementById(inputId);\n",
              "  inputElement.disabled = false;\n",
              "\n",
              "  const outputElement = document.getElementById(outputId);\n",
              "  outputElement.innerHTML = '';\n",
              "\n",
              "  const pickedPromise = new Promise((resolve) => {\n",
              "    inputElement.addEventListener('change', (e) => {\n",
              "      resolve(e.target.files);\n",
              "    });\n",
              "  });\n",
              "\n",
              "  const cancel = document.createElement('button');\n",
              "  inputElement.parentElement.appendChild(cancel);\n",
              "  cancel.textContent = 'Cancel upload';\n",
              "  const cancelPromise = new Promise((resolve) => {\n",
              "    cancel.onclick = () => {\n",
              "      resolve(null);\n",
              "    };\n",
              "  });\n",
              "\n",
              "  // Wait for the user to pick the files.\n",
              "  const files = yield {\n",
              "    promise: Promise.race([pickedPromise, cancelPromise]),\n",
              "    response: {\n",
              "      action: 'starting',\n",
              "    }\n",
              "  };\n",
              "\n",
              "  cancel.remove();\n",
              "\n",
              "  // Disable the input element since further picks are not allowed.\n",
              "  inputElement.disabled = true;\n",
              "\n",
              "  if (!files) {\n",
              "    return {\n",
              "      response: {\n",
              "        action: 'complete',\n",
              "      }\n",
              "    };\n",
              "  }\n",
              "\n",
              "  for (const file of files) {\n",
              "    const li = document.createElement('li');\n",
              "    li.append(span(file.name, {fontWeight: 'bold'}));\n",
              "    li.append(span(\n",
              "        `(${file.type || 'n/a'}) - ${file.size} bytes, ` +\n",
              "        `last modified: ${\n",
              "            file.lastModifiedDate ? file.lastModifiedDate.toLocaleDateString() :\n",
              "                                    'n/a'} - `));\n",
              "    const percent = span('0% done');\n",
              "    li.appendChild(percent);\n",
              "\n",
              "    outputElement.appendChild(li);\n",
              "\n",
              "    const fileDataPromise = new Promise((resolve) => {\n",
              "      const reader = new FileReader();\n",
              "      reader.onload = (e) => {\n",
              "        resolve(e.target.result);\n",
              "      };\n",
              "      reader.readAsArrayBuffer(file);\n",
              "    });\n",
              "    // Wait for the data to be ready.\n",
              "    let fileData = yield {\n",
              "      promise: fileDataPromise,\n",
              "      response: {\n",
              "        action: 'continue',\n",
              "      }\n",
              "    };\n",
              "\n",
              "    // Use a chunked sending to avoid message size limits. See b/62115660.\n",
              "    let position = 0;\n",
              "    do {\n",
              "      const length = Math.min(fileData.byteLength - position, MAX_PAYLOAD_SIZE);\n",
              "      const chunk = new Uint8Array(fileData, position, length);\n",
              "      position += length;\n",
              "\n",
              "      const base64 = btoa(String.fromCharCode.apply(null, chunk));\n",
              "      yield {\n",
              "        response: {\n",
              "          action: 'append',\n",
              "          file: file.name,\n",
              "          data: base64,\n",
              "        },\n",
              "      };\n",
              "\n",
              "      let percentDone = fileData.byteLength === 0 ?\n",
              "          100 :\n",
              "          Math.round((position / fileData.byteLength) * 100);\n",
              "      percent.textContent = `${percentDone}% done`;\n",
              "\n",
              "    } while (position < fileData.byteLength);\n",
              "  }\n",
              "\n",
              "  // All done.\n",
              "  yield {\n",
              "    response: {\n",
              "      action: 'complete',\n",
              "    }\n",
              "  };\n",
              "}\n",
              "\n",
              "scope.google = scope.google || {};\n",
              "scope.google.colab = scope.google.colab || {};\n",
              "scope.google.colab._files = {\n",
              "  _uploadFiles,\n",
              "  _uploadFilesContinue,\n",
              "};\n",
              "})(self);\n",
              "</script> "
            ]
          },
          "metadata": {}
        },
        {
          "output_type": "stream",
          "name": "stdout",
          "text": [
            "Saving kaggle.json to kaggle.json\n"
          ]
        },
        {
          "output_type": "execute_result",
          "data": {
            "text/plain": [
              "{'kaggle.json': b'{\"username\":\"shreyashukla01\",\"key\":\"b0652e31cce9e0350fd087c244990d74\"}'}"
            ]
          },
          "metadata": {},
          "execution_count": 5
        }
      ],
      "source": [
        "from google.colab import files \n",
        "files.upload()"
      ]
    },
    {
      "cell_type": "code",
      "execution_count": null,
      "metadata": {
        "id": "mqqL_UciyVef"
      },
      "outputs": [],
      "source": [
        "! mkdir ~/.kaggle\n",
        "! cp kaggle.json ~/.kaggle/\n",
        "! chmod 600 ~/.kaggle/kaggle.json"
      ]
    },
    {
      "cell_type": "code",
      "execution_count": null,
      "metadata": {
        "colab": {
          "base_uri": "https://localhost:8080/"
        },
        "id": "7bLG-UB3yXNc",
        "outputId": "37d02fb5-8cb4-4be5-883d-53dc26963bc2"
      },
      "outputs": [
        {
          "output_type": "stream",
          "name": "stdout",
          "text": [
            "Downloading chest-ctscan-images.zip to /content\n",
            " 97% 115M/119M [00:04<00:00, 21.9MB/s]\n",
            "100% 119M/119M [00:04<00:00, 26.0MB/s]\n"
          ]
        }
      ],
      "source": [
        "! kaggle datasets download -d mohamedhanyyy/chest-ctscan-images"
      ]
    },
    {
      "cell_type": "code",
      "execution_count": null,
      "metadata": {
        "id": "NtV7JvNzyY1e"
      },
      "outputs": [],
      "source": [
        "! unzip -qq chest-ctscan-images.zip"
      ]
    },
    {
      "cell_type": "code",
      "source": [
        "# Load VGG model from json\n",
        "\n",
        "#Load the Model from Json File\n",
        "json_file = open('/content/gdrive/My Drive/SML_Project/model_vgg16.json', 'r')\n",
        "model_json_c = json_file.read()\n",
        "json_file.close()\n",
        "model = model_from_json(model_json_c)\n",
        "#Load the weights\n",
        "model.load_weights(\"/content/gdrive/My Drive/SML_Project/chest_CT_SCAN-VGG16.hdf5\")\n",
        "#Compile the model\n",
        "opt = SGD(lr=1e-4, momentum=0.9)\n",
        "model.compile(loss=\"categorical_crossentropy\", optimizer=opt,metrics=[\"accuracy\"])"
      ],
      "metadata": {
        "id": "NX_GyvZQJ1hy"
      },
      "execution_count": null,
      "outputs": []
    },
    {
      "cell_type": "markdown",
      "source": [
        "# Gradient Functions"
      ],
      "metadata": {
        "id": "01AQwMg9LVBn"
      }
    },
    {
      "cell_type": "code",
      "execution_count": null,
      "metadata": {
        "id": "m8iK1zkQ8Nfr"
      },
      "outputs": [],
      "source": [
        "# Downsampling of Image Function \n",
        "def downsampleImage(images, stride): \n",
        "  ''' \n",
        "  Input: \n",
        "  image  - you want to undersample\n",
        "  stride - the number of rows and columns you want to skip from original image\n",
        "  '''\n",
        "  downsampled_images = []\n",
        "  for i in range(len(images)): \n",
        "    pixelated_image = images[i][::stride, ::stride] \n",
        "    downsampled_images.append(pixelated_image)\n",
        "  return downsampled_images"
      ]
    },
    {
      "cell_type": "markdown",
      "source": [
        "# Downsampling gradient"
      ],
      "metadata": {
        "id": "eWay1utGNSNt"
      }
    },
    {
      "cell_type": "code",
      "source": [
        "# Directories for image contrast dataset\n",
        "! mkdir underSampledImages\n",
        "! mkdir underSampledImages/stride/\n",
        "! mkdir underSampledImages/stride/0\n",
        "! mkdir underSampledImages/stride/0/cancerous\n",
        "! mkdir underSampledImages/stride/0/non_cancerous\n",
        "! mkdir underSampledImages/stride/1\n",
        "! mkdir underSampledImages/stride/1/cancerous\n",
        "! mkdir underSampledImages/stride/1/non_cancerous\n",
        "! mkdir underSampledImages/stride/2\n",
        "! mkdir underSampledImages/stride/2/cancerous\n",
        "! mkdir underSampledImages/stride/2/non_cancerous\n",
        "! mkdir underSampledImages/stride/3\n",
        "! mkdir underSampledImages/stride/3/cancerous\n",
        "! mkdir underSampledImages/stride/3/non_cancerous\n",
        "! mkdir underSampledImages/stride/4\n",
        "! mkdir underSampledImages/stride/4/cancerous\n",
        "! mkdir underSampledImages/stride/4/non_cancerous"
      ],
      "metadata": {
        "id": "rj_sg3PpRptf"
      },
      "execution_count": null,
      "outputs": []
    },
    {
      "cell_type": "code",
      "source": [
        "# Create a new dataset with cancerous and non cancerous images\n",
        "! mkdir ct_scan\n",
        "\n",
        "! mkdir ct_scan/test\n",
        "! mkdir ct_scan/test/cancerous\n",
        "! mkdir ct_scan/test/non_cancerous\n",
        "! cp -r Data/test/adenocarcinoma/. ct_scan/test/cancerous/\n",
        "! cp -r Data/test/large.cell.carcinoma/. ct_scan/test/cancerous/\n",
        "! cp -r Data/test/squamous.cell.carcinoma/. ct_scan/test/cancerous/\n",
        "! cp -r Data/test/normal/. ct_scan/test/non_cancerous/"
      ],
      "metadata": {
        "id": "Sah2Y1UHNUkx"
      },
      "execution_count": null,
      "outputs": []
    },
    {
      "cell_type": "code",
      "source": [
        "cancer_test_path = \"ct_scan/test/cancerous/\"\n",
        "noncancer_test_path = \"ct_scan/test/non_cancerous/\""
      ],
      "metadata": {
        "id": "hxkr-QF5RgNB"
      },
      "execution_count": null,
      "outputs": []
    },
    {
      "cell_type": "code",
      "execution_count": null,
      "metadata": {
        "colab": {
          "base_uri": "https://localhost:8080/"
        },
        "id": "U09U4W9j8Nq6",
        "outputId": "2e85fe28-94f0-4e1f-fec8-9508fe785ee9"
      },
      "outputs": [
        {
          "output_type": "stream",
          "name": "stdout",
          "text": [
            "Number of Undersampled Cancer Images of stride = 2 : 224\n",
            "Number of Undersampled Cancer Images of stride = 4 : 224\n",
            "Number of Undersampled Cancer Images of stride = 6 : 224\n",
            "Number of Undersampled Cancer Images of stride = 8 : 224\n",
            "Number of Undersampled Cancer Images of stride = 10 : 224\n",
            "Number of Undersampled Non Cancer Images of stride = 2 : 54\n",
            "Number of Undersampled Non Cancer Images of stride = 4 : 54\n",
            "Number of Undersampled Non Cancer Images of stride = 6 : 54\n",
            "Number of Undersampled Non Cancer Images of stride = 8 : 54\n",
            "Number of Undersampled Non Cancer Images of stride = 10 : 54\n"
          ]
        }
      ],
      "source": [
        "# Test - Cancer Downsampling Images  \n",
        "images = []\n",
        "for path in os.listdir(cancer_test_path):\n",
        "  image_ = cv2.imread(cancer_test_path+'/'+path)\n",
        "  images.append(image_)\n",
        "\n",
        "strides = [2, 4, 6, 8, 10] # number of rows and columns to skip from the original image\n",
        "for j in range(len(strides)): \n",
        "  count = 0 \n",
        "  undersampled_images = downsampleImage(images, strides[j])\n",
        "  for i in range(len(undersampled_images)):\n",
        "      undersampledimage = undersampled_images[i]\n",
        "      cv2.imwrite(f\"underSampledImages/stride/{j}/cancerous/{i}.jpg\",undersampledimage)\n",
        "      count +=1\n",
        "      k = cv2.waitKey(1000)\n",
        "  print(f\"Number of Undersampled Cancer Images of stride = {strides[j]} : {count}\")\n",
        "\n",
        "# Test - Non Cancer Undersampled Images\n",
        "images = []\n",
        "for path in os.listdir(noncancer_test_path):\n",
        "  image_ = cv2.imread(noncancer_test_path+'/'+path)\n",
        "  images.append(image_)\n",
        "\n",
        "strides = [2, 4, 6, 8, 10] # number of rows and columns to skip from the original image\n",
        "for j in range(len(strides)): \n",
        "  count = 0 \n",
        "  undersampled_images = downsampleImage(images, strides[j])\n",
        "  for i in range(len(undersampled_images)):\n",
        "      undersampledimage = undersampled_images[i]\n",
        "      cv2.imwrite(f\"underSampledImages/stride/{j}/non_cancerous/{i}.jpg\",undersampledimage)\n",
        "      count +=1\n",
        "      k = cv2.waitKey(1000)\n",
        "  print(f\"Number of Undersampled Non Cancer Images of stride = {strides[j]} : {count}\")"
      ]
    },
    {
      "cell_type": "code",
      "source": [
        "# testgenerator for underSampledImages\n",
        "\n",
        "N_CLASSES = 2\n",
        "BATCH_SIZE = 32\n",
        "\n",
        "test_datagen = ImageDataGenerator(dtype='float32')\n",
        "test_losses_undersampled = []\n",
        "test_accuracy_list_undersampled = []\n",
        "for i in range(len(strides)):\n",
        "  test_path = f\"underSampledImages/stride/{i}\"\n",
        "  test_generator = test_datagen.flow_from_directory(test_path,\n",
        "                                                   batch_size = BATCH_SIZE,\n",
        "                                                   target_size = (460,460),\n",
        "                                                   class_mode = 'categorical')\n",
        "  test_loss, test_accuracy = model.evaluate(test_generator)\n",
        "  test_losses_undersampled.append(test_loss)\n",
        "  test_accuracy_list_undersampled.append(test_accuracy)\n",
        "  print(test_losses_undersampled)\n",
        "  print(test_accuracy_list_undersampled)"
      ],
      "metadata": {
        "colab": {
          "base_uri": "https://localhost:8080/"
        },
        "id": "IBqtfsLaSTmE",
        "outputId": "f45af15d-89ca-412d-c8f8-815f258aa5a3"
      },
      "execution_count": null,
      "outputs": [
        {
          "output_type": "stream",
          "name": "stdout",
          "text": [
            "Found 278 images belonging to 2 classes.\n",
            "9/9 [==============================] - 700s 76s/step - loss: 3.1313 - accuracy: 0.2878\n",
            "[3.131295919418335]\n",
            "[0.28776979446411133]\n",
            "Found 278 images belonging to 2 classes.\n",
            "9/9 [==============================] - 692s 77s/step - loss: 6.4310 - accuracy: 0.1655\n",
            "[3.131295919418335, 6.4309821128845215]\n",
            "[0.28776979446411133, 0.16546761989593506]\n",
            "Found 278 images belonging to 2 classes.\n",
            "9/9 [==============================] - 693s 76s/step - loss: 3.1613 - accuracy: 0.1978\n",
            "[3.131295919418335, 6.4309821128845215, 3.1613047122955322]\n",
            "[0.28776979446411133, 0.16546761989593506, 0.19784173369407654]\n",
            "Found 278 images belonging to 2 classes.\n",
            "9/9 [==============================] - 687s 76s/step - loss: 1.0877 - accuracy: 0.4604\n",
            "[3.131295919418335, 6.4309821128845215, 3.1613047122955322, 1.0877244472503662]\n",
            "[0.28776979446411133, 0.16546761989593506, 0.19784173369407654, 0.46043166518211365]\n",
            "Found 278 images belonging to 2 classes.\n",
            "9/9 [==============================] - 707s 78s/step - loss: 0.5846 - accuracy: 0.8561\n",
            "[3.131295919418335, 6.4309821128845215, 3.1613047122955322, 1.0877244472503662, 0.5845672488212585]\n",
            "[0.28776979446411133, 0.16546761989593506, 0.19784173369407654, 0.46043166518211365, 0.8561151027679443]\n"
          ]
        }
      ]
    },
    {
      "cell_type": "code",
      "source": [
        "# Graph for the trend\n",
        "\n",
        "\n",
        "# plot loss vs Undersampling\n",
        "plt.figure(figsize=(8,6))\n",
        "plt.subplot(221)\n",
        "plt.plot(strides, test_losses_undersampled, linewidth=3)\n",
        "plt.title('Test Loss vs Undersampling')\n",
        "plt.xlabel('Undersanple strides')\n",
        "plt.ylabel('Loss')\n",
        "plt.show()\n",
        "\n",
        "# plot accuracy vs Undersampling\n",
        "plt.figure(figsize=(8,6))\n",
        "plt.subplot(222)\n",
        "plt.plot(strides, test_accuracy_list_undersampled, color = \"orange\", linewidth=3)\n",
        "plt.title('Test Loss vs Undersampling')\n",
        "plt.xlabel('Undersanple strides')\n",
        "plt.ylabel('Accuracy')\n",
        "plt.show()"
      ],
      "metadata": {
        "colab": {
          "base_uri": "https://localhost:8080/",
          "height": 607
        },
        "id": "iA2MaGTqNtLS",
        "outputId": "d829ea81-6f32-4821-e5b5-3db4eefa0ab7"
      },
      "execution_count": null,
      "outputs": [
        {
          "output_type": "display_data",
          "data": {
            "text/plain": [
              "<Figure size 800x600 with 1 Axes>"
            ],
            "image/png": "[encoded data removed]"
          },
          "metadata": {}
        },
        {
          "output_type": "display_data",
          "data": {
            "text/plain": [
              "<Figure size 800x600 with 1 Axes>"
            ],
            "image/png": "[encoded data removed]"
          },
          "metadata": {}
        }
      ]
    },
    {
      "cell_type": "markdown",
      "source": [
        "# ResNet-50 trained on Augmented data"
      ],
      "metadata": {
        "id": "CVwQighaNYrR"
      }
    },
    {
      "cell_type": "code",
      "source": [
        "# Load ResNet model from json\n",
        "\n",
        "#Load the Model from Json File\n",
        "json_file = open('/content/gdrive/My Drive/SML_Project/model_resnet50_augmented.json', 'r')\n",
        "model_json_c = json_file.read()\n",
        "json_file.close()\n",
        "model_r = model_from_json(model_json_c)\n",
        "#Load the weights\n",
        "model_r.load_weights(\"/content/gdrive/My Drive/SML_Project/chest_CT_SCAN-ResNet50_augmented.hdf5\")\n",
        "#Compile the model\n",
        "opt = SGD(lr=1e-4, momentum=0.9)\n",
        "model_r.compile(loss=\"categorical_crossentropy\", optimizer=opt,metrics=[\"accuracy\"])"
      ],
      "metadata": {
        "id": "z_okSyU2Nc3S"
      },
      "execution_count": null,
      "outputs": []
    },
    {
      "cell_type": "code",
      "source": [
        "# testgenerator for underSampledImages\n",
        "\n",
        "N_CLASSES = 2\n",
        "BATCH_SIZE = 32\n",
        "\n",
        "test_datagen = ImageDataGenerator(dtype='float32')\n",
        "test_losses_undersampled_r = []\n",
        "test_accuracy_list_undersampled_r = []\n",
        "for i in range(len(strides)):\n",
        "  test_path = f\"underSampledImages/stride/{i}\"\n",
        "  test_generator = test_datagen.flow_from_directory(test_path,\n",
        "                                                   batch_size = BATCH_SIZE,\n",
        "                                                   target_size = (460,460),\n",
        "                                                   class_mode = 'categorical')\n",
        "  test_loss, test_accuracy = model_r.evaluate(test_generator)\n",
        "  test_losses_undersampled_r.append(test_loss)\n",
        "  test_accuracy_list_undersampled_r.append(test_accuracy)\n",
        "  print(test_losses_undersampled_r)\n",
        "  print(test_accuracy_list_undersampled_r)"
      ],
      "metadata": {
        "colab": {
          "base_uri": "https://localhost:8080/"
        },
        "id": "1Jw121anNkMC",
        "outputId": "162229ec-e89a-44fd-b92a-0654b2ac6092"
      },
      "execution_count": null,
      "outputs": [
        {
          "output_type": "stream",
          "name": "stdout",
          "text": [
            "Found 278 images belonging to 2 classes.\n",
            "9/9 [==============================] - 265s 29s/step - loss: 0.1138 - accuracy: 0.9964\n",
            "[0.1137930378317833]\n",
            "[0.9964028596878052]\n",
            "Found 278 images belonging to 2 classes.\n",
            "9/9 [==============================] - 264s 29s/step - loss: 0.2902 - accuracy: 0.9496\n",
            "[0.1137930378317833, 0.29024118185043335]\n",
            "[0.9964028596878052, 0.9496402740478516]\n",
            "Found 278 images belonging to 2 classes.\n",
            "9/9 [==============================] - 260s 29s/step - loss: 0.6461 - accuracy: 0.5863\n",
            "[0.1137930378317833, 0.29024118185043335, 0.6460891962051392]\n",
            "[0.9964028596878052, 0.9496402740478516, 0.5863309502601624]\n",
            "Found 278 images belonging to 2 classes.\n",
            "9/9 [==============================] - 258s 28s/step - loss: 0.8280 - accuracy: 0.3129\n",
            "[0.1137930378317833, 0.29024118185043335, 0.6460891962051392, 0.8279598951339722]\n",
            "[0.9964028596878052, 0.9496402740478516, 0.5863309502601624, 0.31294962763786316]\n",
            "Found 278 images belonging to 2 classes.\n",
            "9/9 [==============================] - 272s 30s/step - loss: 0.8291 - accuracy: 0.3309\n",
            "[0.1137930378317833, 0.29024118185043335, 0.6460891962051392, 0.8279598951339722, 0.8291389346122742]\n",
            "[0.9964028596878052, 0.9496402740478516, 0.5863309502601624, 0.31294962763786316, 0.3309352397918701]\n"
          ]
        }
      ]
    },
    {
      "cell_type": "code",
      "source": [
        "# Graph for the trend\n",
        "\n",
        "\n",
        "# plot loss vs Undersampling\n",
        "plt.figure(figsize=(8,6))\n",
        "plt.subplot(221)\n",
        "plt.plot(strides, test_losses_undersampled_r, linewidth=3)\n",
        "plt.title('Test Loss vs Undersampling')\n",
        "plt.xlabel('Undersanple strides')\n",
        "plt.ylabel('Loss')\n",
        "plt.show()\n",
        "\n",
        "# plot accuracy vs Undersampling\n",
        "plt.figure(figsize=(8,6))\n",
        "plt.subplot(222)\n",
        "plt.plot(strides, test_accuracy_list_undersampled_r, color = \"orange\", linewidth=3)\n",
        "plt.title('Test Loss vs Undersampling')\n",
        "plt.xlabel('Undersanple strides')\n",
        "plt.ylabel('Accuracy')\n",
        "plt.show()"
      ],
      "metadata": {
        "colab": {
          "base_uri": "https://localhost:8080/",
          "height": 607
        },
        "id": "-7hCdr9mNt9w",
        "outputId": "ba2e1d06-7177-43c8-d80c-d442bb490595"
      },
      "execution_count": null,
      "outputs": [
        {
          "output_type": "display_data",
          "data": {
            "text/plain": [
              "<Figure size 800x600 with 1 Axes>"
            ],
            "image/png": "[encoded data removed]"
          },
          "metadata": {}
        },
        {
          "output_type": "display_data",
          "data": {
            "text/plain": [
              "<Figure size 800x600 with 1 Axes>"
            ],
            "image/png": "[encoded data removed]"
          },
          "metadata": {}
        }
      ]
    }
  ]
}